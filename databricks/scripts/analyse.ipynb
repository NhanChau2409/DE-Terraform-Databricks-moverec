{
 "cells": [
  {
   "cell_type": "markdown",
   "source": [
    "# Analyze API Endpoint Notebook\n",
    "\n",
    "## Purpose\n",
    "This notebook utilizes the `requests` library to make API calls and leverages `Pandas` for data analysis. The primary goal is to analyze data retrieved from the TMDB API, focusing on data schemas, types, and visualization.\n",
    "\n",
    "## Requirements\n",
    "- TMDB API key\n",
    "\n",
    "## How to Run\n",
    "1. Place your TMDB API key in the `.env` file located at the root of this project.\n",
    "2. Follow the TMDB API documentation for further exploration.\n"
   ],
   "metadata": {
    "collapsed": false
   }
  },
  {
   "cell_type": "code",
   "execution_count": 33,
   "metadata": {
    "collapsed": true,
    "ExecuteTime": {
     "end_time": "2023-12-01T01:02:12.542442Z",
     "start_time": "2023-12-01T01:02:12.529525Z"
    }
   },
   "outputs": [
    {
     "data": {
      "text/plain": "True"
     },
     "execution_count": 33,
     "metadata": {},
     "output_type": "execute_result"
    }
   ],
   "source": [
    "import datetime\n",
    "import os\n",
    "\n",
    "import pandas as pd\n",
    "import requests\n",
    "from dotenv import load_dotenv\n",
    "\n",
    "load_dotenv()\n"
   ]
  },
  {
   "cell_type": "code",
   "execution_count": 0,
   "outputs": [],
   "source": [
    "def fetch_movie_data(page):\n",
    "    TMDB_KEY = os.getenv(\"TMDB_KEY\")\n",
    "    url = f\"https://api.themoviedb.org/3/discover/movie\"\n",
    "    params = {\n",
    "        \"include_adult\": \"true\",\n",
    "        \"include_video\": \"false\",\n",
    "        \"language\": \"en-US\",\n",
    "        \"page\": page,\n",
    "        \"sort_by\": \"popularity.desc\",\n",
    "    }\n",
    "    headers = {\n",
    "        \"accept\": \"application/json\",\n",
    "        \"Authorization\": f\"Bearer {TMDB_KEY}\"\n",
    "    }\n",
    "\n",
    "    response = requests.get(url, params=params, headers=headers)\n",
    "    response.raise_for_status()\n",
    "\n",
    "    return response.json()['results']\n"
   ],
   "metadata": {
    "collapsed": false
   }
  },
  {
   "cell_type": "code",
   "execution_count": 34,
   "outputs": [],
   "source": [
    "# Fetch data for multiple pages\n",
    "pages_to_fetch = [1, 2]\n",
    "responses = [fetch_movie_data(page) for page in pages_to_fetch]\n"
   ],
   "metadata": {
    "collapsed": false,
    "ExecuteTime": {
     "end_time": "2023-12-01T01:02:12.624617Z",
     "start_time": "2023-12-01T01:02:12.537906Z"
    }
   }
  },
  {
   "cell_type": "code",
   "execution_count": 35,
   "outputs": [],
   "source": [
    "dataframes = [pd.DataFrame(response) for response in responses]\n",
    "merged_df = pd.concat(dataframes, ignore_index=True)"
   ],
   "metadata": {
    "collapsed": false,
    "ExecuteTime": {
     "end_time": "2023-12-01T01:02:12.638505Z",
     "start_time": "2023-12-01T01:02:12.630015Z"
    }
   }
  },
  {
   "cell_type": "code",
   "execution_count": 36,
   "outputs": [],
   "source": [
    "current_date = datetime.date.today().strftime('%Y-%m-%d')\n",
    "merged_df.to_csv(f'./sample/{current_date}.csv')"
   ],
   "metadata": {
    "collapsed": false,
    "ExecuteTime": {
     "end_time": "2023-12-01T01:02:12.643867Z",
     "start_time": "2023-12-01T01:02:12.636417Z"
    }
   }
  }
 ],
 "metadata": {
  "kernelspec": {
   "display_name": "Python 3",
   "language": "python",
   "name": "python3"
  },
  "language_info": {
   "codemirror_mode": {
    "name": "ipython",
    "version": 2
   },
   "file_extension": ".py",
   "mimetype": "text/x-python",
   "name": "python",
   "nbconvert_exporter": "python",
   "pygments_lexer": "ipython2",
   "version": "2.7.6"
  }
 },
 "nbformat": 4,
 "nbformat_minor": 0
}
