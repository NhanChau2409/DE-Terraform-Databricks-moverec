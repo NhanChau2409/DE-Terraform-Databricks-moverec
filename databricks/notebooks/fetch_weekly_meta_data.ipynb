{
 "cells": [
  {
   "cell_type": "code",
   "execution_count": 0,
   "metadata": {
    "application/vnd.databricks.v1+cell": {
     "cellMetadata": {
      "byteLimit": 2048000,
      "rowLimit": 10000
     },
     "inputWidgets": {},
     "nuid": "5e37b239-d9c9-41d0-872f-886d3bb9123f",
     "showTitle": false,
     "title": ""
    }
   },
   "outputs": [],
   "source": [
    "import requests\n",
    "import pandas as pd\n",
    "import datetime\n",
    "import os"
   ]
  },
  {
   "cell_type": "code",
   "execution_count": 0,
   "metadata": {
    "application/vnd.databricks.v1+cell": {
     "cellMetadata": {
      "byteLimit": 2048000,
      "rowLimit": 10000
     },
     "inputWidgets": {},
     "nuid": "9636a689-ced7-442c-acbb-5383cf0740a3",
     "showTitle": false,
     "title": ""
    }
   },
   "outputs": [],
   "source": [
    "fmt_current_date = datetime.date.today().strftime('%d-%m-%Y')\n",
    "base_path = '/mnt/movrec-container/meta' "
   ]
  },
  {
   "cell_type": "code",
   "execution_count": 0,
   "metadata": {
    "application/vnd.databricks.v1+cell": {
     "cellMetadata": {
      "byteLimit": 2048000,
      "rowLimit": 10000
     },
     "inputWidgets": {},
     "nuid": "ef6fe12f-a382-4a30-a740-30512258ccde",
     "showTitle": false,
     "title": ""
    }
   },
   "outputs": [],
   "source": [
    "def fetch_genres_data():\n",
    "    TMDB_KEY = dbutils.secrets.get(scope=\"application\", key=\"tmdb_api_key\")\n",
    "    url = \"https://api.themoviedb.org/3/genre/movie/list?language=en\"\n",
    "\n",
    "    headers = {\n",
    "        \"accept\": \"application/json\",\n",
    "        \"Authorization\": f\"Bearer {TMDB_KEY}\"\n",
    "    }\n",
    "\n",
    "    response = requests.get(url, headers=headers)\n",
    "    response.raise_for_status()\n",
    "    \n",
    "    return pd.DataFrame(response.json()['genres'])"
   ]
  },
  {
   "cell_type": "code",
   "execution_count": 0,
   "metadata": {
    "application/vnd.databricks.v1+cell": {
     "cellMetadata": {
      "byteLimit": 2048000,
      "rowLimit": 10000
     },
     "inputWidgets": {},
     "nuid": "bbe8d815-e05e-414a-abef-b48e75234bee",
     "showTitle": false,
     "title": ""
    }
   },
   "outputs": [],
   "source": [
    "gernes_df = fetch_genres_data()"
   ]
  },
  {
   "cell_type": "code",
   "execution_count": 0,
   "metadata": {
    "application/vnd.databricks.v1+cell": {
     "cellMetadata": {
      "byteLimit": 2048000,
      "rowLimit": 10000
     },
     "inputWidgets": {},
     "nuid": "3452debc-ceea-4d1a-945b-d418126482ae",
     "showTitle": false,
     "title": ""
    }
   },
   "outputs": [],
   "source": [
    "path= os.path.join(base_path, 'gernes')\n",
    "try:\n",
    "    dbutils.fs.ls(path)\n",
    "except Exception as e:\n",
    "    dbutils.fs.mkdirs(path)"
   ]
  },
  {
   "cell_type": "code",
   "execution_count": 0,
   "metadata": {
    "application/vnd.databricks.v1+cell": {
     "cellMetadata": {
      "byteLimit": 2048000,
      "rowLimit": 10000
     },
     "inputWidgets": {},
     "nuid": "392e1c35-33ad-4747-96ee-c2eb312583e3",
     "showTitle": false,
     "title": ""
    }
   },
   "outputs": [
    {
     "output_type": "stream",
     "name": "stderr",
     "output_type": "stream",
     "text": [
      "/databricks/python/lib/python3.10/site-packages/pyarrow/pandas_compat.py:358: FutureWarning: is_sparse is deprecated and will be removed in a future version. Check `isinstance(dtype, pd.SparseDtype)` instead.\n  if _pandas_api.is_sparse(col):\n"
     ]
    }
   ],
   "source": [
    "gernes_df.to_parquet(f'/dbfs{path}/{fmt_current_date}.parquet', index=False)"
   ]
  }
 ],
 "metadata": {
  "application/vnd.databricks.v1+notebook": {
   "dashboards": [],
   "language": "python",
   "notebookMetadata": {
    "pythonIndentUnit": 4
   },
   "notebookName": "fetch_monthly_meta_data",
   "widgets": {}
  }
 },
 "nbformat": 4,
 "nbformat_minor": 0
}
